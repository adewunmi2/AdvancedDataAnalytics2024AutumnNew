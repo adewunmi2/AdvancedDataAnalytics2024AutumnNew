{
 "cells": [
  {
   "cell_type": "code",
   "execution_count": 1,
   "metadata": {},
   "outputs": [
    {
     "data": {
      "application/vnd.jupyter.widget-view+json": {
       "model_id": "1f3a923faf804f0d86ccf4cf60e95a71",
       "version_major": 2,
       "version_minor": 0
      },
      "text/plain": [
       "                                             |          | [  0%]   00:00 -> (? left)"
      ]
     },
     "metadata": {},
     "output_type": "display_data"
    },
    {
     "name": "stdout",
     "output_type": "stream",
     "text": [
      "Report sv_housing_data_report.html was generated! NOTEBOOK/COLAB USERS: the web browser MAY not pop up, regardless, the report IS saved in your notebook/colab files.\n"
     ]
    }
   ],
   "source": [
    "# venv310 python3.10 is used\n",
    "# pip install sweetviz\n",
    "# pip install ipywidgets\n",
    "# a venv with Python 3.10. you can always delete\n",
    "# the existing .venv and make a new one in VS Code\n",
    "# let's try older NumPy:\n",
    "# pip install numpy==1.26.4\n",
    "import sweetviz as sv\n",
    "import pandas as pd\n",
    "\n",
    "# load dataset\n",
    "df = pd.read_csv(\"houses (1).csv\")\n",
    "\n",
    "# analyze and create HTML-report\n",
    "report = sv.analyze(df)\n",
    "report.show_html('sv_housing_data_report.html')"
   ]
  }
 ],
 "metadata": {
  "kernelspec": {
   "display_name": "venv310",
   "language": "python",
   "name": "python3"
  },
  "language_info": {
   "codemirror_mode": {
    "name": "ipython",
    "version": 3
   },
   "file_extension": ".py",
   "mimetype": "text/x-python",
   "name": "python",
   "nbconvert_exporter": "python",
   "pygments_lexer": "ipython3",
   "version": "3.10.11"
  }
 },
 "nbformat": 4,
 "nbformat_minor": 2
}
