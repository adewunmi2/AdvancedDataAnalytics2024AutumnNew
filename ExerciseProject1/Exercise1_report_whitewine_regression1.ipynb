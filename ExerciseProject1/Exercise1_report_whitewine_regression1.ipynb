{
 "cells": [
  {
   "cell_type": "markdown",
   "metadata": {},
   "source": [
    " <h1>White wine data, dataset optimization analysis</h1>\n",
    "\n",
    " <h5>In this case, the target variable is \"quality\" in the regression.</h5>"
   ]
  },
  {
   "cell_type": "markdown",
   "metadata": {},
   "source": [
    "<h3> Variables that can be dropped are listed below or be processed further</h3>\n",
    "<ul>\n",
    "    <li>In this whitewine dataset I think all the variables are important for the analysis</li>\n",
    "    <li>However, the id could be dropped</li>\n",
    "    <li>There are duplicate rows with high frequencies</li>\n",
    "    <li>The dataset has 772 (15.8%) duplicates</li>\n",
    "    <li>Great that no missing values</li>\n",
    "</ul>"
   ]
  },
  {
   "cell_type": "markdown",
   "metadata": {},
   "source": [
    "<h3>High Correlations</h3>\n",
    "<ul>\n",
    "    <li>The target variable correlated is alcohol</li>\n",
    "    <li>But alcohol is highly overall correlated with chlorides and density</li>\n",
    "    <li>Chlorides is highly correlated with alcohol and density</li>\n",
    "    <li>And other variables are highly correlated to at least two variables</li>\n",
    "</ul>"
   ]
  },
  {
   "cell_type": "markdown",
   "metadata": {},
   "source": [
    "<h3>Data imbalance</h3>\n",
    "<ul>\n",
    "    <li>The dataset has no data imbalance</li>\n",
    "    <li>Possibly nothing to fix in the dataset</li>\n",
    "    <li></li>\n",
    "    <li></li>\n",
    "</ul>\n"
   ]
  },
  {
   "cell_type": "markdown",
   "metadata": {},
   "source": [
    "<h3>Distributions</h3>\n",
    "<ul>\n",
    "    <li>The target variable \"quality\" distribution is normal. Although there are outliers too</li>\n",
    "    <li>pH and alcohol have evenly normal distributions</li>\n",
    "</ul>"
   ]
  },
  {
   "cell_type": "code",
   "execution_count": null,
   "metadata": {},
   "outputs": [],
   "source": []
  }
 ],
 "metadata": {
  "language_info": {
   "name": "python"
  }
 },
 "nbformat": 4,
 "nbformat_minor": 2
}
