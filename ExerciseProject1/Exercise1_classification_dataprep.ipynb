{
 "cells": [
  {
   "cell_type": "markdown",
   "metadata": {},
   "source": []
  },
  {
   "cell_type": "code",
   "execution_count": 8,
   "metadata": {},
   "outputs": [
    {
     "data": {
      "application/vnd.jupyter.widget-view+json": {
       "model_id": "a791a5f337d04271b263799df995b473",
       "version_major": 2,
       "version_minor": 0
      },
      "text/plain": [
       "  0%|          | 0/1777 [00:00<?, ?it/s]"
      ]
     },
     "metadata": {},
     "output_type": "display_data"
    },
    {
     "name": "stderr",
     "output_type": "stream",
     "text": [
      "c:\\Users\\User\\AdvancedDataAnalytics2024AutumnNew2\\AdvancedDataAnalytics2024AutumnNew\\venv310\\lib\\site-packages\\dataprep\\eda\\missing\\render.py:449: FutureWarning: Series.__getitem__ treating keys as positions is deprecated. In a future version, integer keys will always be treated as labels (consistent with DataFrame behavior). To access a value by position, use `ser.iloc[pos]`\n",
      "  y_range=[0, df[\"Present\"][0] + df[\"Missing\"][0]],\n"
     ]
    }
   ],
   "source": [
    "# modules are imported \n",
    "# venv310 is used in this case\n",
    "from dataprep.datasets import load_dataset\n",
    "from dataprep.eda import create_report\n",
    "import pandas as pd\n",
    "df = pd.read_csv(\"car_purchasingNew2.csv\")\n",
    "create_report(df).show_browser()\n",
    "\n",
    "\n",
    "\n",
    "\n"
   ]
  },
  {
   "cell_type": "code",
   "execution_count": 9,
   "metadata": {},
   "outputs": [
    {
     "data": {
      "application/vnd.jupyter.widget-view+json": {
       "model_id": "fc67fb82d39543a895963579ff7035ea",
       "version_major": 2,
       "version_minor": 0
      },
      "text/plain": [
       "                                             |          | [  0%]   00:00 -> (? left)"
      ]
     },
     "metadata": {},
     "output_type": "display_data"
    },
    {
     "name": "stdout",
     "output_type": "stream",
     "text": [
      "Report sv_carpurchase_data_report.html was generated! NOTEBOOK/COLAB USERS: the web browser MAY not pop up, regardless, the report IS saved in your notebook/colab files.\n"
     ]
    }
   ],
   "source": [
    "import sweetviz as sv\n",
    "import pandas as pd\n",
    "\n",
    "# load dataset\n",
    "df = pd.read_csv(\"car_purchasingNew2.csv\")\n",
    "\n",
    "# analyze and create HTML-report\n",
    "report = sv.analyze(df)\n",
    "report.show_html('sv_carpurchase_data_report.html')"
   ]
  },
  {
   "cell_type": "code",
   "execution_count": 10,
   "metadata": {},
   "outputs": [
    {
     "name": "stdout",
     "output_type": "stream",
     "text": [
      "interval columns not set, guessing: ['age', 'BasePay', 'OvertimePay', 'OtherPay', 'TotalPay', 'TotalPayBenefits', 'credit_card_debt', 'net worth', 'car_purchase_amount']\n"
     ]
    },
    {
     "data": {
      "text/html": [
       "<div>\n",
       "<style scoped>\n",
       "    .dataframe tbody tr th:only-of-type {\n",
       "        vertical-align: middle;\n",
       "    }\n",
       "\n",
       "    .dataframe tbody tr th {\n",
       "        vertical-align: top;\n",
       "    }\n",
       "\n",
       "    .dataframe thead th {\n",
       "        text-align: right;\n",
       "    }\n",
       "</style>\n",
       "<table border=\"1\" class=\"dataframe\">\n",
       "  <thead>\n",
       "    <tr style=\"text-align: right;\">\n",
       "      <th></th>\n",
       "      <th>age</th>\n",
       "      <th>BasePay</th>\n",
       "      <th>OvertimePay</th>\n",
       "      <th>OtherPay</th>\n",
       "      <th>TotalPay</th>\n",
       "      <th>TotalPayBenefits</th>\n",
       "      <th>credit_card_debt</th>\n",
       "      <th>net worth</th>\n",
       "      <th>car_purchase_amount</th>\n",
       "    </tr>\n",
       "  </thead>\n",
       "  <tbody>\n",
       "    <tr>\n",
       "      <th>age</th>\n",
       "      <td>1.000000</td>\n",
       "      <td>0.076243</td>\n",
       "      <td>0.000000</td>\n",
       "      <td>0.220957</td>\n",
       "      <td>0.092361</td>\n",
       "      <td>0.092361</td>\n",
       "      <td>0.000000</td>\n",
       "      <td>0.027808</td>\n",
       "      <td>0.635435</td>\n",
       "    </tr>\n",
       "    <tr>\n",
       "      <th>BasePay</th>\n",
       "      <td>0.076243</td>\n",
       "      <td>1.000000</td>\n",
       "      <td>0.594052</td>\n",
       "      <td>0.458280</td>\n",
       "      <td>0.620598</td>\n",
       "      <td>0.620598</td>\n",
       "      <td>0.000000</td>\n",
       "      <td>0.176583</td>\n",
       "      <td>0.000000</td>\n",
       "    </tr>\n",
       "    <tr>\n",
       "      <th>OvertimePay</th>\n",
       "      <td>0.000000</td>\n",
       "      <td>0.594052</td>\n",
       "      <td>1.000000</td>\n",
       "      <td>0.251772</td>\n",
       "      <td>0.504657</td>\n",
       "      <td>0.504657</td>\n",
       "      <td>0.000000</td>\n",
       "      <td>0.000000</td>\n",
       "      <td>0.000000</td>\n",
       "    </tr>\n",
       "    <tr>\n",
       "      <th>OtherPay</th>\n",
       "      <td>0.220957</td>\n",
       "      <td>0.458280</td>\n",
       "      <td>0.251772</td>\n",
       "      <td>1.000000</td>\n",
       "      <td>0.627813</td>\n",
       "      <td>0.627813</td>\n",
       "      <td>0.072773</td>\n",
       "      <td>0.000000</td>\n",
       "      <td>0.033615</td>\n",
       "    </tr>\n",
       "    <tr>\n",
       "      <th>TotalPay</th>\n",
       "      <td>0.092361</td>\n",
       "      <td>0.620598</td>\n",
       "      <td>0.504657</td>\n",
       "      <td>0.627813</td>\n",
       "      <td>1.000000</td>\n",
       "      <td>1.000000</td>\n",
       "      <td>0.000000</td>\n",
       "      <td>0.000000</td>\n",
       "      <td>0.000000</td>\n",
       "    </tr>\n",
       "    <tr>\n",
       "      <th>TotalPayBenefits</th>\n",
       "      <td>0.092361</td>\n",
       "      <td>0.620598</td>\n",
       "      <td>0.504657</td>\n",
       "      <td>0.627813</td>\n",
       "      <td>1.000000</td>\n",
       "      <td>1.000000</td>\n",
       "      <td>0.000000</td>\n",
       "      <td>0.000000</td>\n",
       "      <td>0.000000</td>\n",
       "    </tr>\n",
       "    <tr>\n",
       "      <th>credit_card_debt</th>\n",
       "      <td>0.000000</td>\n",
       "      <td>0.000000</td>\n",
       "      <td>0.000000</td>\n",
       "      <td>0.072773</td>\n",
       "      <td>0.000000</td>\n",
       "      <td>0.000000</td>\n",
       "      <td>1.000000</td>\n",
       "      <td>0.173360</td>\n",
       "      <td>0.000000</td>\n",
       "    </tr>\n",
       "    <tr>\n",
       "      <th>net worth</th>\n",
       "      <td>0.027808</td>\n",
       "      <td>0.176583</td>\n",
       "      <td>0.000000</td>\n",
       "      <td>0.000000</td>\n",
       "      <td>0.000000</td>\n",
       "      <td>0.000000</td>\n",
       "      <td>0.173360</td>\n",
       "      <td>1.000000</td>\n",
       "      <td>0.813383</td>\n",
       "    </tr>\n",
       "    <tr>\n",
       "      <th>car_purchase_amount</th>\n",
       "      <td>0.635435</td>\n",
       "      <td>0.000000</td>\n",
       "      <td>0.000000</td>\n",
       "      <td>0.033615</td>\n",
       "      <td>0.000000</td>\n",
       "      <td>0.000000</td>\n",
       "      <td>0.000000</td>\n",
       "      <td>0.813383</td>\n",
       "      <td>1.000000</td>\n",
       "    </tr>\n",
       "  </tbody>\n",
       "</table>\n",
       "</div>"
      ],
      "text/plain": [
       "                          age   BasePay  OvertimePay  OtherPay  TotalPay  \\\n",
       "age                  1.000000  0.076243     0.000000  0.220957  0.092361   \n",
       "BasePay              0.076243  1.000000     0.594052  0.458280  0.620598   \n",
       "OvertimePay          0.000000  0.594052     1.000000  0.251772  0.504657   \n",
       "OtherPay             0.220957  0.458280     0.251772  1.000000  0.627813   \n",
       "TotalPay             0.092361  0.620598     0.504657  0.627813  1.000000   \n",
       "TotalPayBenefits     0.092361  0.620598     0.504657  0.627813  1.000000   \n",
       "credit_card_debt     0.000000  0.000000     0.000000  0.072773  0.000000   \n",
       "net worth            0.027808  0.176583     0.000000  0.000000  0.000000   \n",
       "car_purchase_amount  0.635435  0.000000     0.000000  0.033615  0.000000   \n",
       "\n",
       "                     TotalPayBenefits  credit_card_debt  net worth  \\\n",
       "age                          0.092361          0.000000   0.027808   \n",
       "BasePay                      0.620598          0.000000   0.176583   \n",
       "OvertimePay                  0.504657          0.000000   0.000000   \n",
       "OtherPay                     0.627813          0.072773   0.000000   \n",
       "TotalPay                     1.000000          0.000000   0.000000   \n",
       "TotalPayBenefits             1.000000          0.000000   0.000000   \n",
       "credit_card_debt             0.000000          1.000000   0.173360   \n",
       "net worth                    0.000000          0.173360   1.000000   \n",
       "car_purchase_amount          0.000000          0.000000   0.813383   \n",
       "\n",
       "                     car_purchase_amount  \n",
       "age                             0.635435  \n",
       "BasePay                         0.000000  \n",
       "OvertimePay                     0.000000  \n",
       "OtherPay                        0.033615  \n",
       "TotalPay                        0.000000  \n",
       "TotalPayBenefits                0.000000  \n",
       "credit_card_debt                0.000000  \n",
       "net worth                       0.813383  \n",
       "car_purchase_amount             1.000000  "
      ]
     },
     "execution_count": 10,
     "metadata": {},
     "output_type": "execute_result"
    }
   ],
   "source": [
    "\n",
    "# pip install phik\n",
    "import phik\n",
    "import pandas as pd\n",
    "\n",
    "# load data\n",
    "df = pd.read_csv(\"car_purchasingNew2.csv\")\n",
    "\n",
    "# compute phik-matrix values\n",
    "phik_matrix = df.phik_matrix()\n",
    "\n",
    "phik_matrix"
   ]
  }
 ],
 "metadata": {
  "kernelspec": {
   "display_name": "venv310",
   "language": "python",
   "name": "python3"
  },
  "language_info": {
   "codemirror_mode": {
    "name": "ipython",
    "version": 3
   },
   "file_extension": ".py",
   "mimetype": "text/x-python",
   "name": "python",
   "nbconvert_exporter": "python",
   "pygments_lexer": "ipython3",
   "version": "3.10.11"
  }
 },
 "nbformat": 4,
 "nbformat_minor": 2
}
